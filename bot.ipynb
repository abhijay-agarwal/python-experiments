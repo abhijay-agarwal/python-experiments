{
 "cells": [
  {
   "cell_type": "code",
   "execution_count": 47,
   "metadata": {},
   "outputs": [],
   "source": [
    "from selenium import webdriver as wd\n",
    "from bs4 import BeautifulSoup as bs\n",
    "from selenium.webdriver.common.by import By\n",
    "from selenium.webdriver.common.action_chains import ActionChains"
   ]
  },
  {
   "cell_type": "code",
   "execution_count": 50,
   "metadata": {},
   "outputs": [],
   "source": [
    "options = wd.ChromeOptions()\n",
    "options.add_experimental_option(\"detach\", True)\n",
    "browser = wd.Chrome(options=options)\n",
    "browser.get('https://tix.axs.com/hlocGwAAAADKRn%2bjAQAAAABm%2fv%2f%2f%2fwD%2f%2f%2f%2f%2fC0ZvcmVzdEhpbGxzAP%2f%2f%2f%2f%2f%2f%2f%2f%2f%2f/shop/search?skin=foresthills&tags=&cpch=&cpdate=&cpcn=&cpsrc=&intoff=&cid=&utm_source=&utm_medium=&utm_campaign=&utm_term=&utm_content=&aff=&clickref=&q=e25e5f32-bcf4-459a-bdf0-b068a98659e1&p=658943a9-9f93-4dcb-99b0-bf9bca909dc3&ts=1687936608&c=axs&e=45484301427492166&rt=Safetynet&h=17b216d42ebbf611a531efeb3f2852b2')"
   ]
  },
  {
   "cell_type": "code",
   "execution_count": 55,
   "metadata": {},
   "outputs": [],
   "source": [
    "accept_cookies_button = browser.find_element(By.ID, 'onetrust-accept-btn-handler')\n",
    "accept_cookies_button.click()"
   ]
  },
  {
   "cell_type": "code",
   "execution_count": 54,
   "metadata": {},
   "outputs": [
    {
     "ename": "ElementNotInteractableException",
     "evalue": "Message: element not interactable: element has zero size\n  (Session info: chrome=114.0.5735.198)\nStacktrace:\n0   chromedriver                        0x00000001026596b8 chromedriver + 4937400\n1   chromedriver                        0x0000000102650b73 chromedriver + 4901747\n2   chromedriver                        0x000000010220e616 chromedriver + 435734\n3   chromedriver                        0x000000010225393e chromedriver + 719166\n4   chromedriver                        0x00000001022461e1 chromedriver + 664033\n5   chromedriver                        0x0000000102276012 chromedriver + 860178\n6   chromedriver                        0x00000001022459c1 chromedriver + 661953\n7   chromedriver                        0x00000001022761ce chromedriver + 860622\n8   chromedriver                        0x0000000102290e76 chromedriver + 970358\n9   chromedriver                        0x0000000102275de3 chromedriver + 859619\n10  chromedriver                        0x0000000102243d7f chromedriver + 654719\n11  chromedriver                        0x00000001022450de chromedriver + 659678\n12  chromedriver                        0x00000001026152ad chromedriver + 4657837\n13  chromedriver                        0x000000010261a130 chromedriver + 4677936\n14  chromedriver                        0x0000000102620def chromedriver + 4705775\n15  chromedriver                        0x000000010261b05a chromedriver + 4681818\n16  chromedriver                        0x00000001025ed92c chromedriver + 4495660\n17  chromedriver                        0x0000000102638838 chromedriver + 4802616\n18  chromedriver                        0x00000001026389b7 chromedriver + 4802999\n19  chromedriver                        0x000000010264999f chromedriver + 4872607\n20  libsystem_pthread.dylib             0x00007ff8085fb1d3 _pthread_start + 125\n21  libsystem_pthread.dylib             0x00007ff8085f6bd3 thread_start + 15\n",
     "output_type": "error",
     "traceback": [
      "\u001b[0;31m---------------------------------------------------------------------------\u001b[0m",
      "\u001b[0;31mElementNotInteractableException\u001b[0m           Traceback (most recent call last)",
      "Cell \u001b[0;32mIn[54], line 3\u001b[0m\n\u001b[1;32m      1\u001b[0m \u001b[39m# click the body\u001b[39;00m\n\u001b[1;32m      2\u001b[0m general_click \u001b[39m=\u001b[39m browser\u001b[39m.\u001b[39mfind_element(By\u001b[39m.\u001b[39mXPATH,\u001b[39m'\u001b[39m\u001b[39m/html/body\u001b[39m\u001b[39m'\u001b[39m)\n\u001b[0;32m----> 3\u001b[0m general_click\u001b[39m.\u001b[39;49mclick()\n",
      "File \u001b[0;32m/Library/Frameworks/Python.framework/Versions/3.11/lib/python3.11/site-packages/selenium/webdriver/remote/webelement.py:94\u001b[0m, in \u001b[0;36mWebElement.click\u001b[0;34m(self)\u001b[0m\n\u001b[1;32m     92\u001b[0m \u001b[39mdef\u001b[39;00m \u001b[39mclick\u001b[39m(\u001b[39mself\u001b[39m) \u001b[39m-\u001b[39m\u001b[39m>\u001b[39m \u001b[39mNone\u001b[39;00m:\n\u001b[1;32m     93\u001b[0m \u001b[39m    \u001b[39m\u001b[39m\"\"\"Clicks the element.\"\"\"\u001b[39;00m\n\u001b[0;32m---> 94\u001b[0m     \u001b[39mself\u001b[39;49m\u001b[39m.\u001b[39;49m_execute(Command\u001b[39m.\u001b[39;49mCLICK_ELEMENT)\n",
      "File \u001b[0;32m/Library/Frameworks/Python.framework/Versions/3.11/lib/python3.11/site-packages/selenium/webdriver/remote/webelement.py:395\u001b[0m, in \u001b[0;36mWebElement._execute\u001b[0;34m(self, command, params)\u001b[0m\n\u001b[1;32m    393\u001b[0m     params \u001b[39m=\u001b[39m {}\n\u001b[1;32m    394\u001b[0m params[\u001b[39m\"\u001b[39m\u001b[39mid\u001b[39m\u001b[39m\"\u001b[39m] \u001b[39m=\u001b[39m \u001b[39mself\u001b[39m\u001b[39m.\u001b[39m_id\n\u001b[0;32m--> 395\u001b[0m \u001b[39mreturn\u001b[39;00m \u001b[39mself\u001b[39;49m\u001b[39m.\u001b[39;49m_parent\u001b[39m.\u001b[39;49mexecute(command, params)\n",
      "File \u001b[0;32m/Library/Frameworks/Python.framework/Versions/3.11/lib/python3.11/site-packages/selenium/webdriver/remote/webdriver.py:346\u001b[0m, in \u001b[0;36mWebDriver.execute\u001b[0;34m(self, driver_command, params)\u001b[0m\n\u001b[1;32m    344\u001b[0m response \u001b[39m=\u001b[39m \u001b[39mself\u001b[39m\u001b[39m.\u001b[39mcommand_executor\u001b[39m.\u001b[39mexecute(driver_command, params)\n\u001b[1;32m    345\u001b[0m \u001b[39mif\u001b[39;00m response:\n\u001b[0;32m--> 346\u001b[0m     \u001b[39mself\u001b[39;49m\u001b[39m.\u001b[39;49merror_handler\u001b[39m.\u001b[39;49mcheck_response(response)\n\u001b[1;32m    347\u001b[0m     response[\u001b[39m\"\u001b[39m\u001b[39mvalue\u001b[39m\u001b[39m\"\u001b[39m] \u001b[39m=\u001b[39m \u001b[39mself\u001b[39m\u001b[39m.\u001b[39m_unwrap_value(response\u001b[39m.\u001b[39mget(\u001b[39m\"\u001b[39m\u001b[39mvalue\u001b[39m\u001b[39m\"\u001b[39m, \u001b[39mNone\u001b[39;00m))\n\u001b[1;32m    348\u001b[0m     \u001b[39mreturn\u001b[39;00m response\n",
      "File \u001b[0;32m/Library/Frameworks/Python.framework/Versions/3.11/lib/python3.11/site-packages/selenium/webdriver/remote/errorhandler.py:245\u001b[0m, in \u001b[0;36mErrorHandler.check_response\u001b[0;34m(self, response)\u001b[0m\n\u001b[1;32m    243\u001b[0m         alert_text \u001b[39m=\u001b[39m value[\u001b[39m\"\u001b[39m\u001b[39malert\u001b[39m\u001b[39m\"\u001b[39m]\u001b[39m.\u001b[39mget(\u001b[39m\"\u001b[39m\u001b[39mtext\u001b[39m\u001b[39m\"\u001b[39m)\n\u001b[1;32m    244\u001b[0m     \u001b[39mraise\u001b[39;00m exception_class(message, screen, stacktrace, alert_text)  \u001b[39m# type: ignore[call-arg]  # mypy is not smart enough here\u001b[39;00m\n\u001b[0;32m--> 245\u001b[0m \u001b[39mraise\u001b[39;00m exception_class(message, screen, stacktrace)\n",
      "\u001b[0;31mElementNotInteractableException\u001b[0m: Message: element not interactable: element has zero size\n  (Session info: chrome=114.0.5735.198)\nStacktrace:\n0   chromedriver                        0x00000001026596b8 chromedriver + 4937400\n1   chromedriver                        0x0000000102650b73 chromedriver + 4901747\n2   chromedriver                        0x000000010220e616 chromedriver + 435734\n3   chromedriver                        0x000000010225393e chromedriver + 719166\n4   chromedriver                        0x00000001022461e1 chromedriver + 664033\n5   chromedriver                        0x0000000102276012 chromedriver + 860178\n6   chromedriver                        0x00000001022459c1 chromedriver + 661953\n7   chromedriver                        0x00000001022761ce chromedriver + 860622\n8   chromedriver                        0x0000000102290e76 chromedriver + 970358\n9   chromedriver                        0x0000000102275de3 chromedriver + 859619\n10  chromedriver                        0x0000000102243d7f chromedriver + 654719\n11  chromedriver                        0x00000001022450de chromedriver + 659678\n12  chromedriver                        0x00000001026152ad chromedriver + 4657837\n13  chromedriver                        0x000000010261a130 chromedriver + 4677936\n14  chromedriver                        0x0000000102620def chromedriver + 4705775\n15  chromedriver                        0x000000010261b05a chromedriver + 4681818\n16  chromedriver                        0x00000001025ed92c chromedriver + 4495660\n17  chromedriver                        0x0000000102638838 chromedriver + 4802616\n18  chromedriver                        0x00000001026389b7 chromedriver + 4802999\n19  chromedriver                        0x000000010264999f chromedriver + 4872607\n20  libsystem_pthread.dylib             0x00007ff8085fb1d3 _pthread_start + 125\n21  libsystem_pthread.dylib             0x00007ff8085f6bd3 thread_start + 15\n"
     ]
    }
   ],
   "source": [
    "# click the body\n",
    "general_click = browser.find_element(By.XPATH,'/html/body')\n",
    "general_click.click()"
   ]
  },
  {
   "cell_type": "code",
   "execution_count": 56,
   "metadata": {},
   "outputs": [],
   "source": [
    "ga_bowl_button = browser.find_element(By.XPATH, '//*[@id=\"main\"]/div/div/div[1]/div/div/div/div/div/div/div[2]/div/div[3]/div/div[2]/div')\n",
    "\n",
    "# create action chain object\n",
    "action = ActionChains(browser)\n",
    "\n",
    "# double click the item\n",
    "action.double_click(on_element = ga_bowl_button)\n",
    "\n",
    "# perform the operation\n",
    "action.perform()\n"
   ]
  },
  {
   "cell_type": "code",
   "execution_count": 4,
   "metadata": {},
   "outputs": [
    {
     "ename": "NameError",
     "evalue": "name 'browser' is not defined",
     "output_type": "error",
     "traceback": [
      "\u001b[0;31m---------------------------------------------------------------------------\u001b[0m",
      "\u001b[0;31mNameError\u001b[0m                                 Traceback (most recent call last)",
      "Cell \u001b[0;32mIn[4], line 1\u001b[0m\n\u001b[0;32m----> 1\u001b[0m price_text \u001b[39m=\u001b[39m browser\u001b[39m.\u001b[39mfind_element(By\u001b[39m.\u001b[39mXPATH, \u001b[39m'\u001b[39m\u001b[39m//*[@id=\u001b[39m\u001b[39m\"\u001b[39m\u001b[39mGA_SELECTOR\u001b[39m\u001b[39m\"\u001b[39m\u001b[39m]/div/div/div[2]/div[1]/div/div/div[2]/div[2]/div/div[1]/div[1]/span/span/span\u001b[39m\u001b[39m'\u001b[39m)\n\u001b[1;32m      2\u001b[0m \u001b[39mprint\u001b[39m(price_text\u001b[39m.\u001b[39mtext)\n",
      "\u001b[0;31mNameError\u001b[0m: name 'browser' is not defined"
     ]
    }
   ],
   "source": [
    "price_text = browser.find_element(By.XPATH, '//*[@id=\"GA_SELECTOR\"]/div/div/div[2]/div[1]/div/div/div[2]/div[2]/div/div[1]/div[1]/span/span/span')\n",
    "print(price_text.text)"
   ]
  },
  {
   "cell_type": "code",
   "execution_count": 9,
   "metadata": {},
   "outputs": [],
   "source": [
    "from email.message import EmailMessage\n",
    "import smtplib, ssl\n",
    "\n",
    "port = 465  # For SSL\n",
    "smtp_server = \"smtp.gmail.com\"\n",
    "sender_email = \"aboniet99@gmail.com\"  # Enter your address\n",
    "receiver_email = \"aboniet99@gmail.com\"  # Enter receiver address\n",
    "password = 'edpcyhwabfrxzoqq'\n",
    "\n",
    "em = EmailMessage()\n",
    "em['From'] = sender_email\n",
    "em['To'] = receiver_email\n",
    "em['Subject'] = '$299.00'\n",
    "em.set_content('This is a test email')\n",
    "\n",
    "context = ssl.create_default_context()\n",
    "with smtplib.SMTP_SSL(smtp_server, port, context=context) as server:\n",
    "    server.login(sender_email, password)\n",
    "    server.sendmail(sender_email, receiver_email, em.as_string())"
   ]
  },
  {
   "cell_type": "code",
   "execution_count": 58,
   "metadata": {},
   "outputs": [],
   "source": [
    "plus_button = browser.find_element(By.XPATH, '//*[@id=\"GA_SELECTOR\"]/div/div/div[2]/div[1]/div/div/div[2]/div[2]/div/div[1]/div[2]/div/button[2]')\n",
    "plus_button.click()"
   ]
  },
  {
   "cell_type": "code",
   "execution_count": 59,
   "metadata": {},
   "outputs": [],
   "source": [
    "continue_button = browser.find_element(By.CLASS_NAME, 'ga-selector-continue')\n",
    "continue_button.click()"
   ]
  },
  {
   "cell_type": "code",
   "execution_count": 62,
   "metadata": {},
   "outputs": [
    {
     "ename": "NoSuchElementException",
     "evalue": "Message: no such element: Unable to locate element: {\"method\":\"css selector\",\"selector\":\".pre-cart-summary__label\"}\n  (Session info: chrome=114.0.5735.198); For documentation on this error, please visit: https://www.selenium.dev/documentation/webdriver/troubleshooting/errors#no-such-element-exception\nStacktrace:\n0   chromedriver                        0x00000001026596b8 chromedriver + 4937400\n1   chromedriver                        0x0000000102650b73 chromedriver + 4901747\n2   chromedriver                        0x000000010220e616 chromedriver + 435734\n3   chromedriver                        0x0000000102251e0f chromedriver + 712207\n4   chromedriver                        0x00000001022520a1 chromedriver + 712865\n5   chromedriver                        0x00000001022939a4 chromedriver + 981412\n6   chromedriver                        0x000000010227603d chromedriver + 860221\n7   chromedriver                        0x0000000102290e76 chromedriver + 970358\n8   chromedriver                        0x0000000102275de3 chromedriver + 859619\n9   chromedriver                        0x0000000102243d7f chromedriver + 654719\n10  chromedriver                        0x00000001022450de chromedriver + 659678\n11  chromedriver                        0x00000001026152ad chromedriver + 4657837\n12  chromedriver                        0x000000010261a130 chromedriver + 4677936\n13  chromedriver                        0x0000000102620def chromedriver + 4705775\n14  chromedriver                        0x000000010261b05a chromedriver + 4681818\n15  chromedriver                        0x00000001025ed92c chromedriver + 4495660\n16  chromedriver                        0x0000000102638838 chromedriver + 4802616\n17  chromedriver                        0x00000001026389b7 chromedriver + 4802999\n18  chromedriver                        0x000000010264999f chromedriver + 4872607\n19  libsystem_pthread.dylib             0x00007ff8085fb1d3 _pthread_start + 125\n20  libsystem_pthread.dylib             0x00007ff8085f6bd3 thread_start + 15\n",
     "output_type": "error",
     "traceback": [
      "\u001b[0;31m---------------------------------------------------------------------------\u001b[0m",
      "\u001b[0;31mNoSuchElementException\u001b[0m                    Traceback (most recent call last)",
      "Cell \u001b[0;32mIn[62], line 1\u001b[0m\n\u001b[0;32m----> 1\u001b[0m checkout_button \u001b[39m=\u001b[39m browser\u001b[39m.\u001b[39;49mfind_element(By\u001b[39m.\u001b[39;49mCLASS_NAME, \u001b[39m'\u001b[39;49m\u001b[39mpre-cart-summary__label\u001b[39;49m\u001b[39m'\u001b[39;49m)\n\u001b[1;32m      2\u001b[0m checkout_button\u001b[39m.\u001b[39mclick()\n",
      "File \u001b[0;32m/Library/Frameworks/Python.framework/Versions/3.11/lib/python3.11/site-packages/selenium/webdriver/remote/webdriver.py:740\u001b[0m, in \u001b[0;36mWebDriver.find_element\u001b[0;34m(self, by, value)\u001b[0m\n\u001b[1;32m    737\u001b[0m     by \u001b[39m=\u001b[39m By\u001b[39m.\u001b[39mCSS_SELECTOR\n\u001b[1;32m    738\u001b[0m     value \u001b[39m=\u001b[39m \u001b[39mf\u001b[39m\u001b[39m'\u001b[39m\u001b[39m[name=\u001b[39m\u001b[39m\"\u001b[39m\u001b[39m{\u001b[39;00mvalue\u001b[39m}\u001b[39;00m\u001b[39m\"\u001b[39m\u001b[39m]\u001b[39m\u001b[39m'\u001b[39m\n\u001b[0;32m--> 740\u001b[0m \u001b[39mreturn\u001b[39;00m \u001b[39mself\u001b[39;49m\u001b[39m.\u001b[39;49mexecute(Command\u001b[39m.\u001b[39;49mFIND_ELEMENT, {\u001b[39m\"\u001b[39;49m\u001b[39musing\u001b[39;49m\u001b[39m\"\u001b[39;49m: by, \u001b[39m\"\u001b[39;49m\u001b[39mvalue\u001b[39;49m\u001b[39m\"\u001b[39;49m: value})[\u001b[39m\"\u001b[39m\u001b[39mvalue\u001b[39m\u001b[39m\"\u001b[39m]\n",
      "File \u001b[0;32m/Library/Frameworks/Python.framework/Versions/3.11/lib/python3.11/site-packages/selenium/webdriver/remote/webdriver.py:346\u001b[0m, in \u001b[0;36mWebDriver.execute\u001b[0;34m(self, driver_command, params)\u001b[0m\n\u001b[1;32m    344\u001b[0m response \u001b[39m=\u001b[39m \u001b[39mself\u001b[39m\u001b[39m.\u001b[39mcommand_executor\u001b[39m.\u001b[39mexecute(driver_command, params)\n\u001b[1;32m    345\u001b[0m \u001b[39mif\u001b[39;00m response:\n\u001b[0;32m--> 346\u001b[0m     \u001b[39mself\u001b[39;49m\u001b[39m.\u001b[39;49merror_handler\u001b[39m.\u001b[39;49mcheck_response(response)\n\u001b[1;32m    347\u001b[0m     response[\u001b[39m\"\u001b[39m\u001b[39mvalue\u001b[39m\u001b[39m\"\u001b[39m] \u001b[39m=\u001b[39m \u001b[39mself\u001b[39m\u001b[39m.\u001b[39m_unwrap_value(response\u001b[39m.\u001b[39mget(\u001b[39m\"\u001b[39m\u001b[39mvalue\u001b[39m\u001b[39m\"\u001b[39m, \u001b[39mNone\u001b[39;00m))\n\u001b[1;32m    348\u001b[0m     \u001b[39mreturn\u001b[39;00m response\n",
      "File \u001b[0;32m/Library/Frameworks/Python.framework/Versions/3.11/lib/python3.11/site-packages/selenium/webdriver/remote/errorhandler.py:245\u001b[0m, in \u001b[0;36mErrorHandler.check_response\u001b[0;34m(self, response)\u001b[0m\n\u001b[1;32m    243\u001b[0m         alert_text \u001b[39m=\u001b[39m value[\u001b[39m\"\u001b[39m\u001b[39malert\u001b[39m\u001b[39m\"\u001b[39m]\u001b[39m.\u001b[39mget(\u001b[39m\"\u001b[39m\u001b[39mtext\u001b[39m\u001b[39m\"\u001b[39m)\n\u001b[1;32m    244\u001b[0m     \u001b[39mraise\u001b[39;00m exception_class(message, screen, stacktrace, alert_text)  \u001b[39m# type: ignore[call-arg]  # mypy is not smart enough here\u001b[39;00m\n\u001b[0;32m--> 245\u001b[0m \u001b[39mraise\u001b[39;00m exception_class(message, screen, stacktrace)\n",
      "\u001b[0;31mNoSuchElementException\u001b[0m: Message: no such element: Unable to locate element: {\"method\":\"css selector\",\"selector\":\".pre-cart-summary__label\"}\n  (Session info: chrome=114.0.5735.198); For documentation on this error, please visit: https://www.selenium.dev/documentation/webdriver/troubleshooting/errors#no-such-element-exception\nStacktrace:\n0   chromedriver                        0x00000001026596b8 chromedriver + 4937400\n1   chromedriver                        0x0000000102650b73 chromedriver + 4901747\n2   chromedriver                        0x000000010220e616 chromedriver + 435734\n3   chromedriver                        0x0000000102251e0f chromedriver + 712207\n4   chromedriver                        0x00000001022520a1 chromedriver + 712865\n5   chromedriver                        0x00000001022939a4 chromedriver + 981412\n6   chromedriver                        0x000000010227603d chromedriver + 860221\n7   chromedriver                        0x0000000102290e76 chromedriver + 970358\n8   chromedriver                        0x0000000102275de3 chromedriver + 859619\n9   chromedriver                        0x0000000102243d7f chromedriver + 654719\n10  chromedriver                        0x00000001022450de chromedriver + 659678\n11  chromedriver                        0x00000001026152ad chromedriver + 4657837\n12  chromedriver                        0x000000010261a130 chromedriver + 4677936\n13  chromedriver                        0x0000000102620def chromedriver + 4705775\n14  chromedriver                        0x000000010261b05a chromedriver + 4681818\n15  chromedriver                        0x00000001025ed92c chromedriver + 4495660\n16  chromedriver                        0x0000000102638838 chromedriver + 4802616\n17  chromedriver                        0x00000001026389b7 chromedriver + 4802999\n18  chromedriver                        0x000000010264999f chromedriver + 4872607\n19  libsystem_pthread.dylib             0x00007ff8085fb1d3 _pthread_start + 125\n20  libsystem_pthread.dylib             0x00007ff8085f6bd3 thread_start + 15\n"
     ]
    }
   ],
   "source": [
    "checkout_button = browser.find_element(By.CLASS_NAME, 'pre-cart-summary__label')\n",
    "checkout_button.click()"
   ]
  },
  {
   "cell_type": "code",
   "execution_count": 63,
   "metadata": {},
   "outputs": [],
   "source": [
    "axn_mobile_id = browser.find_element(By.XPATH, '//*[@id=\"main\"]/div/div/div[1]/div/div/div/div/div/div/div[2]/div/div[2]/div[1]/div/div[1]/div/div[2]/div[2]/div/div/div/div/div/div[1]/div')\n",
    "axn_mobile_id.click()"
   ]
  },
  {
   "cell_type": "code",
   "execution_count": 64,
   "metadata": {},
   "outputs": [
    {
     "ename": "WebDriverException",
     "evalue": "Message: disconnected: Unable to receive message from renderer\n  (failed to check if window was closed: disconnected: not connected to DevTools)\n  (Session info: chrome=114.0.5735.198)\nStacktrace:\n0   chromedriver                        0x00000001026596b8 chromedriver + 4937400\n1   chromedriver                        0x0000000102650b73 chromedriver + 4901747\n2   chromedriver                        0x000000010220e616 chromedriver + 435734\n3   chromedriver                        0x00000001021f5ac9 chromedriver + 334537\n4   chromedriver                        0x00000001021f573c chromedriver + 333628\n5   chromedriver                        0x00000001021f3faa chromedriver + 327594\n6   chromedriver                        0x00000001021f438d chromedriver + 328589\n7   chromedriver                        0x00000001021f2b91 chromedriver + 322449\n8   chromedriver                        0x00000001022181fa chromedriver + 475642\n9   chromedriver                        0x00000001022463f1 chromedriver + 664561\n10  chromedriver                        0x0000000102276012 chromedriver + 860178\n11  chromedriver                        0x00000001022459c1 chromedriver + 661953\n12  chromedriver                        0x00000001022761ce chromedriver + 860622\n13  chromedriver                        0x0000000102290e76 chromedriver + 970358\n14  chromedriver                        0x0000000102275de3 chromedriver + 859619\n15  chromedriver                        0x0000000102243d7f chromedriver + 654719\n16  chromedriver                        0x00000001022450de chromedriver + 659678\n17  chromedriver                        0x00000001026152ad chromedriver + 4657837\n18  chromedriver                        0x000000010261a130 chromedriver + 4677936\n19  chromedriver                        0x0000000102620def chromedriver + 4705775\n20  chromedriver                        0x000000010261b05a chromedriver + 4681818\n21  chromedriver                        0x00000001025ed92c chromedriver + 4495660\n22  chromedriver                        0x0000000102638838 chromedriver + 4802616\n23  chromedriver                        0x00000001026389b7 chromedriver + 4802999\n24  chromedriver                        0x000000010264999f chromedriver + 4872607\n25  libsystem_pthread.dylib             0x00007ff8085fb1d3 _pthread_start + 125\n26  libsystem_pthread.dylib             0x00007ff8085f6bd3 thread_start + 15\n",
     "output_type": "error",
     "traceback": [
      "\u001b[0;31m---------------------------------------------------------------------------\u001b[0m",
      "\u001b[0;31mWebDriverException\u001b[0m                        Traceback (most recent call last)",
      "Cell \u001b[0;32mIn[64], line 2\u001b[0m\n\u001b[1;32m      1\u001b[0m order_summary_button \u001b[39m=\u001b[39m browser\u001b[39m.\u001b[39mfind_element(By\u001b[39m.\u001b[39mID, \u001b[39m'\u001b[39m\u001b[39morder-summary__next__btn--delivery\u001b[39m\u001b[39m'\u001b[39m)\n\u001b[0;32m----> 2\u001b[0m order_summary_button\u001b[39m.\u001b[39;49mclick()\n",
      "File \u001b[0;32m/Library/Frameworks/Python.framework/Versions/3.11/lib/python3.11/site-packages/selenium/webdriver/remote/webelement.py:94\u001b[0m, in \u001b[0;36mWebElement.click\u001b[0;34m(self)\u001b[0m\n\u001b[1;32m     92\u001b[0m \u001b[39mdef\u001b[39;00m \u001b[39mclick\u001b[39m(\u001b[39mself\u001b[39m) \u001b[39m-\u001b[39m\u001b[39m>\u001b[39m \u001b[39mNone\u001b[39;00m:\n\u001b[1;32m     93\u001b[0m \u001b[39m    \u001b[39m\u001b[39m\"\"\"Clicks the element.\"\"\"\u001b[39;00m\n\u001b[0;32m---> 94\u001b[0m     \u001b[39mself\u001b[39;49m\u001b[39m.\u001b[39;49m_execute(Command\u001b[39m.\u001b[39;49mCLICK_ELEMENT)\n",
      "File \u001b[0;32m/Library/Frameworks/Python.framework/Versions/3.11/lib/python3.11/site-packages/selenium/webdriver/remote/webelement.py:395\u001b[0m, in \u001b[0;36mWebElement._execute\u001b[0;34m(self, command, params)\u001b[0m\n\u001b[1;32m    393\u001b[0m     params \u001b[39m=\u001b[39m {}\n\u001b[1;32m    394\u001b[0m params[\u001b[39m\"\u001b[39m\u001b[39mid\u001b[39m\u001b[39m\"\u001b[39m] \u001b[39m=\u001b[39m \u001b[39mself\u001b[39m\u001b[39m.\u001b[39m_id\n\u001b[0;32m--> 395\u001b[0m \u001b[39mreturn\u001b[39;00m \u001b[39mself\u001b[39;49m\u001b[39m.\u001b[39;49m_parent\u001b[39m.\u001b[39;49mexecute(command, params)\n",
      "File \u001b[0;32m/Library/Frameworks/Python.framework/Versions/3.11/lib/python3.11/site-packages/selenium/webdriver/remote/webdriver.py:346\u001b[0m, in \u001b[0;36mWebDriver.execute\u001b[0;34m(self, driver_command, params)\u001b[0m\n\u001b[1;32m    344\u001b[0m response \u001b[39m=\u001b[39m \u001b[39mself\u001b[39m\u001b[39m.\u001b[39mcommand_executor\u001b[39m.\u001b[39mexecute(driver_command, params)\n\u001b[1;32m    345\u001b[0m \u001b[39mif\u001b[39;00m response:\n\u001b[0;32m--> 346\u001b[0m     \u001b[39mself\u001b[39;49m\u001b[39m.\u001b[39;49merror_handler\u001b[39m.\u001b[39;49mcheck_response(response)\n\u001b[1;32m    347\u001b[0m     response[\u001b[39m\"\u001b[39m\u001b[39mvalue\u001b[39m\u001b[39m\"\u001b[39m] \u001b[39m=\u001b[39m \u001b[39mself\u001b[39m\u001b[39m.\u001b[39m_unwrap_value(response\u001b[39m.\u001b[39mget(\u001b[39m\"\u001b[39m\u001b[39mvalue\u001b[39m\u001b[39m\"\u001b[39m, \u001b[39mNone\u001b[39;00m))\n\u001b[1;32m    348\u001b[0m     \u001b[39mreturn\u001b[39;00m response\n",
      "File \u001b[0;32m/Library/Frameworks/Python.framework/Versions/3.11/lib/python3.11/site-packages/selenium/webdriver/remote/errorhandler.py:245\u001b[0m, in \u001b[0;36mErrorHandler.check_response\u001b[0;34m(self, response)\u001b[0m\n\u001b[1;32m    243\u001b[0m         alert_text \u001b[39m=\u001b[39m value[\u001b[39m\"\u001b[39m\u001b[39malert\u001b[39m\u001b[39m\"\u001b[39m]\u001b[39m.\u001b[39mget(\u001b[39m\"\u001b[39m\u001b[39mtext\u001b[39m\u001b[39m\"\u001b[39m)\n\u001b[1;32m    244\u001b[0m     \u001b[39mraise\u001b[39;00m exception_class(message, screen, stacktrace, alert_text)  \u001b[39m# type: ignore[call-arg]  # mypy is not smart enough here\u001b[39;00m\n\u001b[0;32m--> 245\u001b[0m \u001b[39mraise\u001b[39;00m exception_class(message, screen, stacktrace)\n",
      "\u001b[0;31mWebDriverException\u001b[0m: Message: disconnected: Unable to receive message from renderer\n  (failed to check if window was closed: disconnected: not connected to DevTools)\n  (Session info: chrome=114.0.5735.198)\nStacktrace:\n0   chromedriver                        0x00000001026596b8 chromedriver + 4937400\n1   chromedriver                        0x0000000102650b73 chromedriver + 4901747\n2   chromedriver                        0x000000010220e616 chromedriver + 435734\n3   chromedriver                        0x00000001021f5ac9 chromedriver + 334537\n4   chromedriver                        0x00000001021f573c chromedriver + 333628\n5   chromedriver                        0x00000001021f3faa chromedriver + 327594\n6   chromedriver                        0x00000001021f438d chromedriver + 328589\n7   chromedriver                        0x00000001021f2b91 chromedriver + 322449\n8   chromedriver                        0x00000001022181fa chromedriver + 475642\n9   chromedriver                        0x00000001022463f1 chromedriver + 664561\n10  chromedriver                        0x0000000102276012 chromedriver + 860178\n11  chromedriver                        0x00000001022459c1 chromedriver + 661953\n12  chromedriver                        0x00000001022761ce chromedriver + 860622\n13  chromedriver                        0x0000000102290e76 chromedriver + 970358\n14  chromedriver                        0x0000000102275de3 chromedriver + 859619\n15  chromedriver                        0x0000000102243d7f chromedriver + 654719\n16  chromedriver                        0x00000001022450de chromedriver + 659678\n17  chromedriver                        0x00000001026152ad chromedriver + 4657837\n18  chromedriver                        0x000000010261a130 chromedriver + 4677936\n19  chromedriver                        0x0000000102620def chromedriver + 4705775\n20  chromedriver                        0x000000010261b05a chromedriver + 4681818\n21  chromedriver                        0x00000001025ed92c chromedriver + 4495660\n22  chromedriver                        0x0000000102638838 chromedriver + 4802616\n23  chromedriver                        0x00000001026389b7 chromedriver + 4802999\n24  chromedriver                        0x000000010264999f chromedriver + 4872607\n25  libsystem_pthread.dylib             0x00007ff8085fb1d3 _pthread_start + 125\n26  libsystem_pthread.dylib             0x00007ff8085f6bd3 thread_start + 15\n"
     ]
    }
   ],
   "source": [
    "order_summary_button = browser.find_element(By.ID, 'order-summary__next__btn--delivery')\n",
    "order_summary_button.click()"
   ]
  },
  {
   "cell_type": "code",
   "execution_count": null,
   "metadata": {},
   "outputs": [],
   "source": [
    "price_element = browser.find_element(By.XPATH, '//*[@id=\"resale-options-switch-pane-LOWEST_PRICE\"]/div[2]/div[3]/div[3]/div/div/div')\n",
    "price = float(price_element.text[1:])\n",
    "\n",
    "if(price < 200):\n",
    "    ticket_button = browser.find_element(By.XPATH, '//*[@id=\"resale-options-switch-pane-LOWEST_PRICE\"]/div[2]/div[2]/div')\n",
    "    ticket_button.click()"
   ]
  },
  {
   "cell_type": "code",
   "execution_count": null,
   "metadata": {},
   "outputs": [],
   "source": [
    "checkout_button = browser.find_element(By.XPATH, '//*[@id=\"main\"]/div/div/div/div/div/div/div/div/div/div[2]/div/div[3]/div/div[3]/div/div/div[3]/div/div[2]/button/span')\n",
    "checkout_button.click()"
   ]
  },
  {
   "cell_type": "code",
   "execution_count": null,
   "metadata": {},
   "outputs": [],
   "source": [
    "checkout_continue_button = browser.find_element(By.XPATH, '//*[@id=\"order-summary__next__btn--delivery\"]')\n",
    "checkout_continue_button.click()"
   ]
  },
  {
   "cell_type": "code",
   "execution_count": 30,
   "metadata": {},
   "outputs": [],
   "source": [
    "browser.quit()"
   ]
  }
 ],
 "metadata": {
  "kernelspec": {
   "display_name": "Python 3",
   "language": "python",
   "name": "python3"
  },
  "language_info": {
   "codemirror_mode": {
    "name": "ipython",
    "version": 3
   },
   "file_extension": ".py",
   "mimetype": "text/x-python",
   "name": "python",
   "nbconvert_exporter": "python",
   "pygments_lexer": "ipython3",
   "version": "3.11.3"
  },
  "orig_nbformat": 4
 },
 "nbformat": 4,
 "nbformat_minor": 2
}
