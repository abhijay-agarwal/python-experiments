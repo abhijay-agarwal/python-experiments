{
 "cells": [
  {
   "cell_type": "code",
   "execution_count": 85,
   "metadata": {},
   "outputs": [],
   "source": [
    "from selenium import webdriver as wd\n",
    "from bs4 import BeautifulSoup as bs\n",
    "from selenium.webdriver.common.by import By"
   ]
  },
  {
   "cell_type": "code",
   "execution_count": 86,
   "metadata": {},
   "outputs": [],
   "source": [
    "browser = wd.Chrome()\n",
    "browser.get('https://tix.axs.com/hlocGwAAAADKRn%2bjAQAAAABm%2fv%2f%2f%2fwD%2f%2f%2f%2f%2fC0ZvcmVzdEhpbGxzAP%2f%2f%2f%2f%2f%2f%2f%2f%2f%2f/shop/search?skin=foresthills&tags=&cpch=&cpdate=&cpcn=&cpsrc=&intoff=&cid=&utm_source=&utm_medium=&utm_campaign=&utm_term=&utm_content=&aff=&clickref=&q=e25e5f32-bcf4-459a-bdf0-b068a98659e1&p=658943a9-9f93-4dcb-99b0-bf9bca909dc3&ts=1687936608&c=axs&e=45484301427492166&rt=Safetynet&h=17b216d42ebbf611a531efeb3f2852b2')"
   ]
  },
  {
   "cell_type": "code",
   "execution_count": 87,
   "metadata": {},
   "outputs": [
    {
     "ename": "WebDriverException",
     "evalue": "Message: disconnected: not connected to DevTools\n  (failed to check if window was closed: disconnected: not connected to DevTools)\n  (Session info: chrome=114.0.5735.198)\nStacktrace:\n0   chromedriver                        0x00000001046ac6b8 chromedriver + 4937400\n1   chromedriver                        0x00000001046a3b73 chromedriver + 4901747\n2   chromedriver                        0x0000000104261616 chromedriver + 435734\n3   chromedriver                        0x0000000104247bc1 chromedriver + 330689\n4   chromedriver                        0x0000000104247923 chromedriver + 330019\n5   chromedriver                        0x0000000104263262 chromedriver + 442978\n6   chromedriver                        0x00000001042e356e chromedriver + 968046\n7   chromedriver                        0x00000001042c8de3 chromedriver + 859619\n8   chromedriver                        0x0000000104296d7f chromedriver + 654719\n9   chromedriver                        0x00000001042980de chromedriver + 659678\n10  chromedriver                        0x00000001046682ad chromedriver + 4657837\n11  chromedriver                        0x000000010466d130 chromedriver + 4677936\n12  chromedriver                        0x0000000104673def chromedriver + 4705775\n13  chromedriver                        0x000000010466e05a chromedriver + 4681818\n14  chromedriver                        0x000000010464092c chromedriver + 4495660\n15  chromedriver                        0x000000010468b838 chromedriver + 4802616\n16  chromedriver                        0x000000010468b9b7 chromedriver + 4802999\n17  chromedriver                        0x000000010469c99f chromedriver + 4872607\n18  libsystem_pthread.dylib             0x00007ff80eefb259 _pthread_start + 125\n19  libsystem_pthread.dylib             0x00007ff80eef6c7b thread_start + 15\n",
     "output_type": "error",
     "traceback": [
      "\u001b[0;31m---------------------------------------------------------------------------\u001b[0m",
      "\u001b[0;31mWebDriverException\u001b[0m                        Traceback (most recent call last)",
      "Cell \u001b[0;32mIn[87], line 1\u001b[0m\n\u001b[0;32m----> 1\u001b[0m accept_cookies_button \u001b[39m=\u001b[39m browser\u001b[39m.\u001b[39;49mfind_element(By\u001b[39m.\u001b[39;49mID, \u001b[39m'\u001b[39;49m\u001b[39monetrust-accept-btn-handler\u001b[39;49m\u001b[39m'\u001b[39;49m)\n\u001b[1;32m      2\u001b[0m accept_cookies_button\u001b[39m.\u001b[39mclick()\n",
      "File \u001b[0;32m/Library/Frameworks/Python.framework/Versions/3.11/lib/python3.11/site-packages/selenium/webdriver/remote/webdriver.py:740\u001b[0m, in \u001b[0;36mWebDriver.find_element\u001b[0;34m(self, by, value)\u001b[0m\n\u001b[1;32m    737\u001b[0m     by \u001b[39m=\u001b[39m By\u001b[39m.\u001b[39mCSS_SELECTOR\n\u001b[1;32m    738\u001b[0m     value \u001b[39m=\u001b[39m \u001b[39mf\u001b[39m\u001b[39m'\u001b[39m\u001b[39m[name=\u001b[39m\u001b[39m\"\u001b[39m\u001b[39m{\u001b[39;00mvalue\u001b[39m}\u001b[39;00m\u001b[39m\"\u001b[39m\u001b[39m]\u001b[39m\u001b[39m'\u001b[39m\n\u001b[0;32m--> 740\u001b[0m \u001b[39mreturn\u001b[39;00m \u001b[39mself\u001b[39;49m\u001b[39m.\u001b[39;49mexecute(Command\u001b[39m.\u001b[39;49mFIND_ELEMENT, {\u001b[39m\"\u001b[39;49m\u001b[39musing\u001b[39;49m\u001b[39m\"\u001b[39;49m: by, \u001b[39m\"\u001b[39;49m\u001b[39mvalue\u001b[39;49m\u001b[39m\"\u001b[39;49m: value})[\u001b[39m\"\u001b[39m\u001b[39mvalue\u001b[39m\u001b[39m\"\u001b[39m]\n",
      "File \u001b[0;32m/Library/Frameworks/Python.framework/Versions/3.11/lib/python3.11/site-packages/selenium/webdriver/remote/webdriver.py:346\u001b[0m, in \u001b[0;36mWebDriver.execute\u001b[0;34m(self, driver_command, params)\u001b[0m\n\u001b[1;32m    344\u001b[0m response \u001b[39m=\u001b[39m \u001b[39mself\u001b[39m\u001b[39m.\u001b[39mcommand_executor\u001b[39m.\u001b[39mexecute(driver_command, params)\n\u001b[1;32m    345\u001b[0m \u001b[39mif\u001b[39;00m response:\n\u001b[0;32m--> 346\u001b[0m     \u001b[39mself\u001b[39;49m\u001b[39m.\u001b[39;49merror_handler\u001b[39m.\u001b[39;49mcheck_response(response)\n\u001b[1;32m    347\u001b[0m     response[\u001b[39m\"\u001b[39m\u001b[39mvalue\u001b[39m\u001b[39m\"\u001b[39m] \u001b[39m=\u001b[39m \u001b[39mself\u001b[39m\u001b[39m.\u001b[39m_unwrap_value(response\u001b[39m.\u001b[39mget(\u001b[39m\"\u001b[39m\u001b[39mvalue\u001b[39m\u001b[39m\"\u001b[39m, \u001b[39mNone\u001b[39;00m))\n\u001b[1;32m    348\u001b[0m     \u001b[39mreturn\u001b[39;00m response\n",
      "File \u001b[0;32m/Library/Frameworks/Python.framework/Versions/3.11/lib/python3.11/site-packages/selenium/webdriver/remote/errorhandler.py:245\u001b[0m, in \u001b[0;36mErrorHandler.check_response\u001b[0;34m(self, response)\u001b[0m\n\u001b[1;32m    243\u001b[0m         alert_text \u001b[39m=\u001b[39m value[\u001b[39m\"\u001b[39m\u001b[39malert\u001b[39m\u001b[39m\"\u001b[39m]\u001b[39m.\u001b[39mget(\u001b[39m\"\u001b[39m\u001b[39mtext\u001b[39m\u001b[39m\"\u001b[39m)\n\u001b[1;32m    244\u001b[0m     \u001b[39mraise\u001b[39;00m exception_class(message, screen, stacktrace, alert_text)  \u001b[39m# type: ignore[call-arg]  # mypy is not smart enough here\u001b[39;00m\n\u001b[0;32m--> 245\u001b[0m \u001b[39mraise\u001b[39;00m exception_class(message, screen, stacktrace)\n",
      "\u001b[0;31mWebDriverException\u001b[0m: Message: disconnected: not connected to DevTools\n  (failed to check if window was closed: disconnected: not connected to DevTools)\n  (Session info: chrome=114.0.5735.198)\nStacktrace:\n0   chromedriver                        0x00000001046ac6b8 chromedriver + 4937400\n1   chromedriver                        0x00000001046a3b73 chromedriver + 4901747\n2   chromedriver                        0x0000000104261616 chromedriver + 435734\n3   chromedriver                        0x0000000104247bc1 chromedriver + 330689\n4   chromedriver                        0x0000000104247923 chromedriver + 330019\n5   chromedriver                        0x0000000104263262 chromedriver + 442978\n6   chromedriver                        0x00000001042e356e chromedriver + 968046\n7   chromedriver                        0x00000001042c8de3 chromedriver + 859619\n8   chromedriver                        0x0000000104296d7f chromedriver + 654719\n9   chromedriver                        0x00000001042980de chromedriver + 659678\n10  chromedriver                        0x00000001046682ad chromedriver + 4657837\n11  chromedriver                        0x000000010466d130 chromedriver + 4677936\n12  chromedriver                        0x0000000104673def chromedriver + 4705775\n13  chromedriver                        0x000000010466e05a chromedriver + 4681818\n14  chromedriver                        0x000000010464092c chromedriver + 4495660\n15  chromedriver                        0x000000010468b838 chromedriver + 4802616\n16  chromedriver                        0x000000010468b9b7 chromedriver + 4802999\n17  chromedriver                        0x000000010469c99f chromedriver + 4872607\n18  libsystem_pthread.dylib             0x00007ff80eefb259 _pthread_start + 125\n19  libsystem_pthread.dylib             0x00007ff80eef6c7b thread_start + 15\n"
     ]
    }
   ],
   "source": [
    "accept_cookies_button = browser.find_element(By.ID, 'onetrust-accept-btn-handler')\n",
    "accept_cookies_button.click()"
   ]
  },
  {
   "cell_type": "code",
   "execution_count": null,
   "metadata": {},
   "outputs": [],
   "source": [
    "ga_bowl_button = browser.find_element(By.XPATH, '//*[@id=\"main\"]/div/div/div/div/div/div/div/div/div/div[2]/div/div[3]/div/div[3]/div/div/div[2]/div/div/div[3]/div[1]')\n",
    "ga_bowl_button.click()"
   ]
  },
  {
   "cell_type": "code",
   "execution_count": null,
   "metadata": {},
   "outputs": [],
   "source": [
    "continue_button = browser.find_element(By.XPATH, '//*[@id=\"main\"]/div/div/div/div/div/div/div/div/div/div[2]/div/div[3]/div/div[3]/div/div/div[2]/div/div/div[4]/div/button')\n",
    "continue_button.click()"
   ]
  },
  {
   "cell_type": "code",
   "execution_count": null,
   "metadata": {},
   "outputs": [],
   "source": [
    "price_element = browser.find_element(By.XPATH, '//*[@id=\"resale-options-switch-pane-LOWEST_PRICE\"]/div[2]/div[3]/div[3]/div/div/div')\n",
    "price = float(price_element.text[1:])\n",
    "\n",
    "if(price < 200):\n",
    "    ticket_button = browser.find_element(By.XPATH, '//*[@id=\"resale-options-switch-pane-LOWEST_PRICE\"]/div[2]/div[2]/div')\n",
    "    ticket_button.click()"
   ]
  },
  {
   "cell_type": "code",
   "execution_count": null,
   "metadata": {},
   "outputs": [],
   "source": [
    "checkout_button = browser.find_element(By.XPATH, '//*[@id=\"main\"]/div/div/div/div/div/div/div/div/div/div[2]/div/div[3]/div/div[3]/div/div/div[3]/div/div[2]/button/span')\n",
    "checkout_button.click()"
   ]
  },
  {
   "cell_type": "code",
   "execution_count": null,
   "metadata": {},
   "outputs": [],
   "source": [
    "checkout_continue_button = browser.find_element(By.XPATH, '//*[@id=\"order-summary__next__btn--delivery\"]')\n",
    "checkout_continue_button.click()"
   ]
  },
  {
   "cell_type": "code",
   "execution_count": null,
   "metadata": {},
   "outputs": [],
   "source": [
    "browser.quit()"
   ]
  }
 ],
 "metadata": {
  "kernelspec": {
   "display_name": "Python 3",
   "language": "python",
   "name": "python3"
  },
  "language_info": {
   "codemirror_mode": {
    "name": "ipython",
    "version": 3
   },
   "file_extension": ".py",
   "mimetype": "text/x-python",
   "name": "python",
   "nbconvert_exporter": "python",
   "pygments_lexer": "ipython3",
   "version": "3.11.3"
  },
  "orig_nbformat": 4
 },
 "nbformat": 4,
 "nbformat_minor": 2
}
